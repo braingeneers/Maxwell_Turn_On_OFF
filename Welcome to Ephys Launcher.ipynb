{
 "cells": [
  {
   "cell_type": "markdown",
   "id": "97028c90",
   "metadata": {},
   "source": [
    "<div style=\"text-align:right\"><font size=6 color=\"orchid\" face='Brush Script MT'> to Start, Click - <button class=\"btn btn-sm btn-success\"><i class=\"fa fa-lg fa-id-card-o\">"
   ]
  },
  {
   "cell_type": "markdown",
   "id": "8562f86f",
   "metadata": {},
   "source": [
    "<font color=\"magenta\" size=7><i> Ephys Launcher"
   ]
  },
  {
   "cell_type": "markdown",
   "id": "3a8af905",
   "metadata": {},
   "source": [
    "This buttons below are used to start up and shut down the MaxOne device. When the MaxOne is running, you can access [it here](http://128.114.78.6).\n",
    "\n",
    "Please turn off the Maxone when you are finished!"
   ]
  },
  {
   "cell_type": "code",
   "execution_count": null,
   "id": "da7277c0",
   "metadata": {},
   "outputs": [],
   "source": [
    "%run source_code.ipynb"
   ]
  }
 ],
 "metadata": {
  "hide_input": false,
  "kernelspec": {
   "display_name": "Python 3 (ipykernel)",
   "language": "python",
   "name": "python3"
  },
  "language_info": {
   "codemirror_mode": {
    "name": "ipython",
    "version": 3
   },
   "file_extension": ".py",
   "mimetype": "text/x-python",
   "name": "python",
   "nbconvert_exporter": "python",
   "pygments_lexer": "ipython3",
   "version": "3.9.7"
  },
  "toc": {
   "base_numbering": 1,
   "nav_menu": {},
   "number_sections": true,
   "sideBar": true,
   "skip_h1_title": false,
   "title_cell": "Table of Contents",
   "title_sidebar": "Contents",
   "toc_cell": false,
   "toc_position": {},
   "toc_section_display": true,
   "toc_window_display": false
  },
  "widgets": {
   "application/vnd.jupyter.widget-state+json": {
    "state": {
     "07db9be2a61b4a9bbae631dc06b4b02c": {
      "model_module": "@jupyter-widgets/controls",
      "model_module_version": "1.5.0",
      "model_name": "ButtonStyleModel",
      "state": {}
     },
     "0ac38e9dd992443da36fbb44ae73070e": {
      "model_module": "@jupyter-widgets/controls",
      "model_module_version": "1.5.0",
      "model_name": "ButtonModel",
      "state": {
       "button_style": "danger",
       "description": "OFF",
       "layout": "IPY_MODEL_9d502930c3c04f1aab7a7729d5d2cf52",
       "style": "IPY_MODEL_a1697a8919e749d89d85aa79533f6727"
      }
     },
     "0f685f3cef5c436489bea8b408d1ca73": {
      "model_module": "@jupyter-widgets/base",
      "model_module_version": "1.2.0",
      "model_name": "LayoutModel",
      "state": {}
     },
     "2699278f963646f4800664a863719739": {
      "model_module": "@jupyter-widgets/controls",
      "model_module_version": "1.5.0",
      "model_name": "HBoxModel",
      "state": {
       "children": [
        "IPY_MODEL_cbf81c81404e4df6b0fee83cab63d997",
        "IPY_MODEL_0ac38e9dd992443da36fbb44ae73070e"
       ],
       "layout": "IPY_MODEL_77fc45705bb142bf9a8ef65c5eb5f2d0"
      }
     },
     "27be5e0a6aa04fe5bbc8458b1a43822b": {
      "model_module": "@jupyter-widgets/controls",
      "model_module_version": "1.5.0",
      "model_name": "ButtonModel",
      "state": {
       "button_style": "danger",
       "description": "OFF",
       "layout": "IPY_MODEL_ad1b5737ce284d579fc2c98ba9a537cb",
       "style": "IPY_MODEL_07db9be2a61b4a9bbae631dc06b4b02c"
      }
     },
     "69bc96fe58044f558d30d9cfe495b246": {
      "model_module": "@jupyter-widgets/controls",
      "model_module_version": "1.5.0",
      "model_name": "ButtonStyleModel",
      "state": {}
     },
     "6fca73973daa42e982b441de0444ba41": {
      "model_module": "@jupyter-widgets/controls",
      "model_module_version": "1.5.0",
      "model_name": "ButtonStyleModel",
      "state": {}
     },
     "74637a2220c14ab98fea0cac3b4d1212": {
      "model_module": "@jupyter-widgets/controls",
      "model_module_version": "1.5.0",
      "model_name": "ButtonStyleModel",
      "state": {}
     },
     "77fc45705bb142bf9a8ef65c5eb5f2d0": {
      "model_module": "@jupyter-widgets/base",
      "model_module_version": "1.2.0",
      "model_name": "LayoutModel",
      "state": {}
     },
     "7e4b3cb13b704c50b1fd3096570cfd54": {
      "model_module": "@jupyter-widgets/controls",
      "model_module_version": "1.5.0",
      "model_name": "ButtonModel",
      "state": {
       "button_style": "danger",
       "description": "OFF",
       "layout": "IPY_MODEL_9321c95340fe4d5687dcced58848c933",
       "style": "IPY_MODEL_74637a2220c14ab98fea0cac3b4d1212"
      }
     },
     "89d01df09dbe4b359c2d5332df6c8730": {
      "model_module": "@jupyter-widgets/controls",
      "model_module_version": "1.5.0",
      "model_name": "ButtonModel",
      "state": {
       "button_style": "success",
       "description": "ON",
       "layout": "IPY_MODEL_8d4fab06401c479cb6e3bdc5d14286e2",
       "style": "IPY_MODEL_6fca73973daa42e982b441de0444ba41"
      }
     },
     "8d4fab06401c479cb6e3bdc5d14286e2": {
      "model_module": "@jupyter-widgets/base",
      "model_module_version": "1.2.0",
      "model_name": "LayoutModel",
      "state": {}
     },
     "9321c95340fe4d5687dcced58848c933": {
      "model_module": "@jupyter-widgets/base",
      "model_module_version": "1.2.0",
      "model_name": "LayoutModel",
      "state": {}
     },
     "98a482b5cded4db28a1e1d4fb9905a76": {
      "model_module": "@jupyter-widgets/controls",
      "model_module_version": "1.5.0",
      "model_name": "HBoxModel",
      "state": {
       "children": [
        "IPY_MODEL_89d01df09dbe4b359c2d5332df6c8730",
        "IPY_MODEL_27be5e0a6aa04fe5bbc8458b1a43822b"
       ],
       "layout": "IPY_MODEL_b0fbc5b9b4fe4ac9a903f8692383d823"
      }
     },
     "9d502930c3c04f1aab7a7729d5d2cf52": {
      "model_module": "@jupyter-widgets/base",
      "model_module_version": "1.2.0",
      "model_name": "LayoutModel",
      "state": {}
     },
     "a1697a8919e749d89d85aa79533f6727": {
      "model_module": "@jupyter-widgets/controls",
      "model_module_version": "1.5.0",
      "model_name": "ButtonStyleModel",
      "state": {}
     },
     "a4a26293f2b346fb92320f1aaf04cfae": {
      "model_module": "@jupyter-widgets/base",
      "model_module_version": "1.2.0",
      "model_name": "LayoutModel",
      "state": {}
     },
     "aa864ff69cf2486ca71a309898c9d039": {
      "model_module": "@jupyter-widgets/base",
      "model_module_version": "1.2.0",
      "model_name": "LayoutModel",
      "state": {}
     },
     "ad1b5737ce284d579fc2c98ba9a537cb": {
      "model_module": "@jupyter-widgets/base",
      "model_module_version": "1.2.0",
      "model_name": "LayoutModel",
      "state": {}
     },
     "b0fbc5b9b4fe4ac9a903f8692383d823": {
      "model_module": "@jupyter-widgets/base",
      "model_module_version": "1.2.0",
      "model_name": "LayoutModel",
      "state": {}
     },
     "c9efd3c1493745f6a1a5e0cc24080b9a": {
      "model_module": "@jupyter-widgets/controls",
      "model_module_version": "1.5.0",
      "model_name": "ButtonModel",
      "state": {
       "button_style": "success",
       "description": "ON",
       "layout": "IPY_MODEL_a4a26293f2b346fb92320f1aaf04cfae",
       "style": "IPY_MODEL_69bc96fe58044f558d30d9cfe495b246"
      }
     },
     "cbf81c81404e4df6b0fee83cab63d997": {
      "model_module": "@jupyter-widgets/controls",
      "model_module_version": "1.5.0",
      "model_name": "ButtonModel",
      "state": {
       "button_style": "success",
       "description": "ON",
       "layout": "IPY_MODEL_0f685f3cef5c436489bea8b408d1ca73",
       "style": "IPY_MODEL_e20313d2502d4b80b74a4f48b011c5c7"
      }
     },
     "e20313d2502d4b80b74a4f48b011c5c7": {
      "model_module": "@jupyter-widgets/controls",
      "model_module_version": "1.5.0",
      "model_name": "ButtonStyleModel",
      "state": {}
     },
     "f222b59c563649f994745326646552c0": {
      "model_module": "@jupyter-widgets/controls",
      "model_module_version": "1.5.0",
      "model_name": "HBoxModel",
      "state": {
       "children": [
        "IPY_MODEL_c9efd3c1493745f6a1a5e0cc24080b9a",
        "IPY_MODEL_7e4b3cb13b704c50b1fd3096570cfd54"
       ],
       "layout": "IPY_MODEL_aa864ff69cf2486ca71a309898c9d039"
      }
     }
    },
    "version_major": 2,
    "version_minor": 0
   }
  }
 },
 "nbformat": 4,
 "nbformat_minor": 5
}
