{
 "cells": [
  {
   "cell_type": "markdown",
   "id": "74c4505c",
   "metadata": {},
   "source": [
    "<font size=7>Turn Maxwell On or Off"
   ]
  },
  {
   "cell_type": "markdown",
   "id": "7c606d91",
   "metadata": {},
   "source": [
    "Here we create a basic interface for powering the maxwell device on or off for ephys experiments. This code will later be wrapped into a larger Maxwell controller notebook."
   ]
  },
  {
   "cell_type": "markdown",
   "id": "627a71ba",
   "metadata": {},
   "source": [
    "# Set up notebook\n"
   ]
  },
  {
   "cell_type": "markdown",
   "id": "407c10a4",
   "metadata": {},
   "source": [
    "import requried packages"
   ]
  },
  {
   "cell_type": "code",
   "execution_count": null,
   "id": "d24c91fa",
   "metadata": {},
   "outputs": [],
   "source": [
    "import ipywidgets as  ipw\n",
    "from braingeneers.utils import messaging\n",
    "import uuid \n",
    "import time"
   ]
  },
  {
   "cell_type": "markdown",
   "id": "7dbf4881",
   "metadata": {},
   "source": [
    "<font color=\"orange\">These commands only work if code is running on the maxwell computer, in the future this notebook should be able to run anywhere and we instead used IoT. For now though, this is a lot simpler."
   ]
  },
  {
   "cell_type": "code",
   "execution_count": null,
   "id": "b897bc4e",
   "metadata": {},
   "outputs": [],
   "source": [
    "import maxlab\n",
    "import maxlab.system"
   ]
  },
  {
   "cell_type": "markdown",
   "id": "76438a8a",
   "metadata": {},
   "source": [
    "Create message broker for communicating with the smartplug"
   ]
  },
  {
   "cell_type": "code",
   "execution_count": null,
   "id": "99feb641",
   "metadata": {},
   "outputs": [],
   "source": [
    "! cd /home/mxwbio/MaxLab/bin && ./mxwserver.sh\n"
   ]
  },
  {
   "cell_type": "code",
   "execution_count": null,
   "id": "96389c80",
   "metadata": {},
   "outputs": [],
   "source": [
    "! pwd"
   ]
  },
  {
   "cell_type": "code",
   "execution_count": null,
   "id": "d3c3ee7d",
   "metadata": {},
   "outputs": [],
   "source": []
  },
  {
   "cell_type": "code",
   "execution_count": null,
   "id": "eaa1ad5d",
   "metadata": {},
   "outputs": [],
   "source": []
  },
  {
   "cell_type": "code",
   "execution_count": null,
   "id": "74621c1d",
   "metadata": {},
   "outputs": [],
   "source": [
    "#mb = messaging.MessageBroker( str(uuid.uuid4()) )\n",
    "#q = messaging.CallableQueue()`\n",
    "\n",
    "# Import libraries\n",
    "\n",
    "maxlab.send( maxlab.system.StatusLED(color=0))"
   ]
  },
  {
   "cell_type": "markdown",
   "id": "509f004d",
   "metadata": {},
   "source": [
    "# Get Status <font color=\"red\">Not done"
   ]
  },
  {
   "cell_type": "markdown",
   "id": "210bdf56",
   "metadata": {},
   "source": [
    "<font color=\"red\">\n",
    "    \n",
    "**Game Plan:** After we turn on the smart plug, we will wait 15 seconds and then start the maxwell ephys server. The we check if the ephys server is running, if not, we turn of the device and turn it back on to reset it. "
   ]
  },
  {
   "cell_type": "markdown",
   "id": "105d1d27",
   "metadata": {},
   "source": [
    "<font color=\"orange\">\n",
    "    \n",
    "**HintL** the optogenetics notebook has a line of code that change the LED. This is a good test if the server is on"
   ]
  },
  {
   "cell_type": "code",
   "execution_count": null,
   "id": "55650193",
   "metadata": {},
   "outputs": [],
   "source": [
    "try:\n",
    "    # run some mxwbio command that requires server\n",
    "    print(\"temprarily here\")"
   ]
  },
  {
   "cell_type": "markdown",
   "id": "f6bc3c1d",
   "metadata": {},
   "source": [
    "# Toggle Status"
   ]
  },
  {
   "cell_type": "markdown",
   "id": "c6ef023e",
   "metadata": {},
   "source": [
    "Create buttons for toggling on and off"
   ]
  },
  {
   "cell_type": "code",
   "execution_count": null,
   "id": "5bcbed14",
   "metadata": {},
   "outputs": [],
   "source": [
    "toggle_on= ipw.Button(description=\"ON\", button_style=\"Success\")\n",
    "toggle_off= ipw.Button(description=\"OFF\", button_style=\"Danger\")\n",
    "power_btns = ipw.HBox([toggle_on,toggle_off])"
   ]
  },
  {
   "cell_type": "code",
   "execution_count": null,
   "id": "c176e91e",
   "metadata": {},
   "outputs": [],
   "source": [
    "power_btns "
   ]
  },
  {
   "cell_type": "markdown",
   "id": "751648cc",
   "metadata": {},
   "source": [
    "Add functionality for on button\n",
    "\n",
    "<font color=\"red\"> Add steps where you turn on the server. then power up the server code. As a final check run a basic server command as an assertion to check it's there."
   ]
  },
  {
   "cell_type": "code",
   "execution_count": null,
   "id": "5dbbaf39",
   "metadata": {},
   "outputs": [],
   "source": [
    "def turnOn(a):\n",
    "    try:        \n",
    "        mb = messaging.MessageBroker( str(uuid.uuid4()) )\n",
    "        mb.publish_message(topic=\"mcclintock/cmnd/POWER\", message=\"ON\" ) #/Power\n",
    "        print(\"Turnin the hub on now. Waiting 15 seconds for it to warm up...\")\n",
    "        time.sleep(15)\n",
    "        # turon on hte server\n",
    "        # test that the server is on\n",
    "        print(\"You just turned the hub on, please remember to turn it off later today!\")\n",
    "    except: \n",
    "        print(\"Error\")\n",
    "    \n",
    "toggle_on.on_click(turnOn)"
   ]
  },
  {
   "cell_type": "code",
   "execution_count": null,
   "id": "e3aee3c3",
   "metadata": {},
   "outputs": [],
   "source": [
    "def turnOff(a):\n",
    "    try:        \n",
    "        mb = messaging.MessageBroker( str(uuid.uuid4()) )\n",
    "        mb.publish_message(topic=\"mcclintock/cmnd/POWER\", message=\"OFF\" ) #/Power\n",
    "        print(\"You just turned the hub off, thanks!\")\n",
    "    except: \n",
    "        print(\"Error\")\n",
    "    \n",
    "toggle_off.on_click(turnOff)"
   ]
  },
  {
   "cell_type": "markdown",
   "id": "0b7bf453",
   "metadata": {},
   "source": [
    "# <font color=\"red\"> Document Setup DO THIS!!"
   ]
  },
  {
   "cell_type": "code",
   "execution_count": null,
   "id": "264aaf17",
   "metadata": {},
   "outputs": [],
   "source": []
  },
  {
   "cell_type": "code",
   "execution_count": null,
   "id": "ec43803f",
   "metadata": {},
   "outputs": [],
   "source": []
  }
 ],
 "metadata": {
  "hide_input": false,
  "kernelspec": {
   "display_name": "Python 3 (ipykernel)",
   "language": "python",
   "name": "python3"
  },
  "language_info": {
   "codemirror_mode": {
    "name": "ipython",
    "version": 3
   },
   "file_extension": ".py",
   "mimetype": "text/x-python",
   "name": "python",
   "nbconvert_exporter": "python",
   "pygments_lexer": "ipython3",
   "version": "3.9.7"
  },
  "toc": {
   "base_numbering": 1,
   "nav_menu": {},
   "number_sections": true,
   "sideBar": true,
   "skip_h1_title": false,
   "title_cell": "Table of Contents",
   "title_sidebar": "Contents",
   "toc_cell": false,
   "toc_position": {},
   "toc_section_display": true,
   "toc_window_display": false
  }
 },
 "nbformat": 4,
 "nbformat_minor": 5
}
