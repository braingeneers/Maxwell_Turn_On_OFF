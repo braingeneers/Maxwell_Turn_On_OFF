{
 "cells": [
  {
   "cell_type": "markdown",
   "id": "b68f2cd9",
   "metadata": {},
   "source": [
    "<p></p><p></p>\n",
    "\n",
    "<font size=7>Ephys Environment Launcher -- <font color=\"green\">ON"
   ]
  },
  {
   "cell_type": "markdown",
   "id": "ff2691a2",
   "metadata": {},
   "source": [
    "<font color=\"orange\">\n",
    "    \n",
    "**NOTE:** This code runs outside of wetai. It actually runs on the Maxwell computer. This notebook was made for troubleshooting the code as it's written. Maxwell `jupyter notebook` was used for running the code."
   ]
  },
  {
   "cell_type": "markdown",
   "id": "288fa1bb",
   "metadata": {},
   "source": [
    "**To Do**\n",
    "* Write Code for IoT listener\n",
    "* combine all code into one file, `turn_on_ephys.py`\n",
    "* Create WetAI notebook on braingeneers server to test communication\n",
    "* Post to braingeneers github\n",
    "* Put code in bash so that this runs every time computer restarts"
   ]
  },
  {
   "cell_type": "markdown",
   "id": "4d9fa489",
   "metadata": {},
   "source": [
    "# Import Packages"
   ]
  },
  {
   "cell_type": "markdown",
   "id": "8c78f927",
   "metadata": {},
   "source": [
    "import basic python pacakges"
   ]
  },
  {
   "cell_type": "code",
   "execution_count": 24,
   "id": "e5f304ae",
   "metadata": {},
   "outputs": [],
   "source": [
    "import os\n",
    "import time"
   ]
  },
  {
   "cell_type": "markdown",
   "id": "8840089a",
   "metadata": {},
   "source": [
    "import package for running iot commands"
   ]
  },
  {
   "cell_type": "code",
   "execution_count": 25,
   "id": "353e96c9",
   "metadata": {},
   "outputs": [],
   "source": [
    "import uuid\n",
    "from braingeneers.utils import messaging"
   ]
  },
  {
   "cell_type": "markdown",
   "id": "0410917e",
   "metadata": {},
   "source": [
    "import packages for controlling MaxOne"
   ]
  },
  {
   "cell_type": "code",
   "execution_count": 26,
   "id": "6e0502a7",
   "metadata": {},
   "outputs": [],
   "source": [
    "import maxlab"
   ]
  },
  {
   "cell_type": "markdown",
   "id": "7cd2e801",
   "metadata": {},
   "source": [
    "# Create IoT listener for Ephys Commands"
   ]
  },
  {
   "cell_type": "code",
   "execution_count": null,
   "id": "b44b9785",
   "metadata": {},
   "outputs": [],
   "source": []
  },
  {
   "cell_type": "code",
   "execution_count": null,
   "id": "1e7268fa",
   "metadata": {},
   "outputs": [],
   "source": []
  },
  {
   "cell_type": "markdown",
   "id": "2397dd27",
   "metadata": {},
   "source": [
    "# Turn on SmartPlug"
   ]
  },
  {
   "cell_type": "markdown",
   "id": "9b22abf1",
   "metadata": {},
   "source": [
    "use iot to turn on smart plug. this turns on the MaxOne hub that is plugged into the smartplug, which in turn, makes it possible to start controlling the MaxOne through the hub."
   ]
  },
  {
   "cell_type": "code",
   "execution_count": 27,
   "id": "01b65c5a",
   "metadata": {},
   "outputs": [],
   "source": [
    "mb = messaging.MessageBroker( str(uuid.uuid4()) )\n",
    "mb.publish_message(topic=\"mcclintock/cmnd/POWER\", message=\"ON\" ) #/Power"
   ]
  },
  {
   "cell_type": "markdown",
   "id": "fd43e967",
   "metadata": {},
   "source": [
    "# Launch MaxOne Server"
   ]
  },
  {
   "cell_type": "markdown",
   "id": "dced4483",
   "metadata": {},
   "source": [
    "Turn on server"
   ]
  },
  {
   "cell_type": "code",
   "execution_count": 17,
   "id": "e965d112",
   "metadata": {},
   "outputs": [
    {
     "data": {
      "text/plain": [
       "0"
      ]
     },
     "execution_count": 17,
     "metadata": {},
     "output_type": "execute_result"
    }
   ],
   "source": [
    "os.system(\"/home/mxwbio/MaxLab/bin/mxwserver.sh &\")"
   ]
  },
  {
   "cell_type": "markdown",
   "id": "42c2b801",
   "metadata": {},
   "source": [
    "Test server is on"
   ]
  },
  {
   "cell_type": "code",
   "execution_count": 22,
   "id": "3c8c0d17",
   "metadata": {},
   "outputs": [],
   "source": [
    "#maxlab.send( maxlab.system.StatusLED(color=0) )"
   ]
  },
  {
   "cell_type": "markdown",
   "id": "015d7284",
   "metadata": {},
   "source": [
    "# Start WetAI"
   ]
  },
  {
   "cell_type": "code",
   "execution_count": 23,
   "id": "dc7f2b38",
   "metadata": {},
   "outputs": [
    {
     "data": {
      "text/plain": [
       "256"
      ]
     },
     "execution_count": 23,
     "metadata": {},
     "output_type": "execute_result"
    }
   ],
   "source": [
    "os.system(\"echo mxwbio | sudo -S docker start wetai\")"
   ]
  },
  {
   "cell_type": "markdown",
   "id": "c2611897",
   "metadata": {},
   "source": [
    "# <font color=\"brown\"> Original Docker code for creating WetAI container"
   ]
  },
  {
   "cell_type": "markdown",
   "id": "e81fea8b",
   "metadata": {},
   "source": [
    "The following code is run once on the maxwell computer to create the docker container for wetai. To update wetai, simply delete the docker container `wetai` and the run the following code below, but with the latest wetai docker image."
   ]
  },
  {
   "cell_type": "raw",
   "id": "ed251527",
   "metadata": {},
   "source": [
    "sudo docker run -d --name wetai --network host -v /home/mxwbio/wetai/Projects:/home/jovyan/Projects -v /home/mxwbio/wetai/Data:/home/jovyan/Data braingeneers/wetai:4.0.1  password maxwell\n"
   ]
  },
  {
   "cell_type": "markdown",
   "id": "7b770d5b",
   "metadata": {},
   "source": [
    "# <font color=\"red\"> Documentation of Set Up Smart Plug"
   ]
  },
  {
   "cell_type": "markdown",
   "id": "b13b81b4",
   "metadata": {},
   "source": [
    "To connect the smartplug to Braingeneers AWS IoT environment:\n",
    "\n",
    "\n",
    "First,  plug in the smartplug, wait for initialization, and find its IP and website by doing a LAN scan (Android app \"Net Analyzer\" is perfect for this)\n",
    "\n",
    "To set up AWS, do [this tutorial](https://tasmota.github.io/docs/AWS-IoT/#4-configure-aws-iot-policy-to-be-done-once) only once (already done for Braingeneers)\n",
    "\n",
    "From the smartplug's website:\n",
    "\n",
    "1. Go to \"Firmware Upgrade\" > \"Upgrade by file upload\". Flash the plug with tasmota-braingeneers-iot.bin.gz  firmware (it has enabled IoT & TLS)\n",
    "\n",
    "2. Once flashed, paste this into the smartplug website's Console:\n",
    "\n",
    "`BackLog SetOption3 1; SetOption103 1; MqttHost ahp00abmtph4i-ats.iot.us-west-2.amazonaws.com; MqttPort 443; MqttUser tasmota?x-amz-customauthorizer-name=TasmotaAuth; MqttPassword dvGbdnVI+rbv9YsRw+1FdQ==`\n",
    "\n",
    "4. Edit the MQTT topic in \"Configuration\" > \"Configure MQTT\" to be \"Full Topic\" =  %topic%/%prefix%/  and \"Topic\" = UNIQUE_NAME  <-- change this to be an actual name you want for the device.\n",
    "5. Now you should be able to trigger the plug with MQTT messages UNIQUE_NAME/cmnd/Power ON, UNIQUE_NAME/cmnd/Power OFF\n",
    "6. Edit in \"Configuration\" > \"Configure Other\",  \"Device Name\" = UNIQUE_NAME to also make the web interface display the plug's name for easier identification (edited) "
   ]
  },
  {
   "cell_type": "code",
   "execution_count": null,
   "id": "9c2f18da",
   "metadata": {},
   "outputs": [],
   "source": []
  }
 ],
 "metadata": {
  "hide_input": false,
  "kernelspec": {
   "display_name": "Python 3",
   "language": "python",
   "name": "python3"
  },
  "language_info": {
   "codemirror_mode": {
    "name": "ipython",
    "version": 3
   },
   "file_extension": ".py",
   "mimetype": "text/x-python",
   "name": "python",
   "nbconvert_exporter": "python",
   "pygments_lexer": "ipython3",
   "version": "3.9.5"
  },
  "toc": {
   "base_numbering": 1,
   "nav_menu": {},
   "number_sections": false,
   "sideBar": true,
   "skip_h1_title": false,
   "title_cell": "Table of Contents",
   "title_sidebar": "Contents",
   "toc_cell": false,
   "toc_position": {},
   "toc_section_display": true,
   "toc_window_display": false
  }
 },
 "nbformat": 4,
 "nbformat_minor": 5
}
