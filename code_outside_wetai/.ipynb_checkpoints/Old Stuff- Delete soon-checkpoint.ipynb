{
 "cells": [
  {
   "cell_type": "markdown",
   "id": "74c4505c",
   "metadata": {},
   "source": [
    "<font size=7>Turn Maxwell On or Off"
   ]
  },
  {
   "cell_type": "markdown",
   "id": "7c606d91",
   "metadata": {},
   "source": [
    "Here we create a basic interface for powering the maxwell device on or off for ephys experiments. This code will later be wrapped into a larger Maxwell controller notebook."
   ]
  },
  {
   "cell_type": "markdown",
   "id": "1528dd0d",
   "metadata": {},
   "source": [
    "# <font color=\"red\">To Do"
   ]
  },
  {
   "cell_type": "markdown",
   "id": "a88e8e28",
   "metadata": {},
   "source": [
    "1. Create a python script that does the following\n",
    "    * Turn on the hub using the smartlink\n",
    "    * Turn wetai on, on the maxwell computer\n",
    "    * Turn maxwell server on\n",
    "    * Executing pytho script launches AWS listener\n",
    "2. Edit mxwbio bash so that listener runs on start up\n",
    "3. Move this notebook over to regular wetai\n",
    "4. Test that everything works"
   ]
  },
  {
   "cell_type": "markdown",
   "id": "627a71ba",
   "metadata": {},
   "source": [
    "# Set up notebook\n"
   ]
  },
  {
   "cell_type": "markdown",
   "id": "407c10a4",
   "metadata": {},
   "source": [
    "import requried packages"
   ]
  },
  {
   "cell_type": "code",
   "execution_count": 3,
   "id": "d24c91fa",
   "metadata": {},
   "outputs": [],
   "source": [
    "import ipywidgets as  ipw\n",
    "from braingeneers.utils import messaging\n",
    "import uuid \n",
    "import time"
   ]
  },
  {
   "cell_type": "markdown",
   "id": "7dbf4881",
   "metadata": {},
   "source": [
    "<font color=\"orange\">These commands only work if code is running on the maxwell computer, in the future this notebook should be able to run anywhere and we instead used IoT. For now though, this is a lot simpler."
   ]
  },
  {
   "cell_type": "code",
   "execution_count": 4,
   "id": "b897bc4e",
   "metadata": {},
   "outputs": [],
   "source": [
    "import maxlab\n",
    "import maxlab.system"
   ]
  },
  {
   "cell_type": "markdown",
   "id": "76438a8a",
   "metadata": {},
   "source": [
    "Create message broker for communicating with the smartplug"
   ]
  },
  {
   "cell_type": "code",
   "execution_count": null,
   "id": "99feb641",
   "metadata": {},
   "outputs": [],
   "source": [
    "#! cd /home/mxwbio/MaxLab/bin && ./mxwserver.sh\n"
   ]
  },
  {
   "cell_type": "code",
   "execution_count": null,
   "id": "96389c80",
   "metadata": {},
   "outputs": [],
   "source": [
    "#! pwd"
   ]
  },
  {
   "cell_type": "code",
   "execution_count": null,
   "id": "36bbe7f2",
   "metadata": {},
   "outputs": [],
   "source": [
    "#mb = messaging.MessageBroker( str(uuid.uuid4()) )\n",
    "#q = messaging.CallableQueue()`\n",
    "\n",
    "# Import libraries"
   ]
  },
  {
   "cell_type": "markdown",
   "id": "e34f9560",
   "metadata": {},
   "source": [
    "Command checks if Maxwell chip is on"
   ]
  },
  {
   "cell_type": "raw",
   "id": "4f5edf8e",
   "metadata": {},
   "source": [
    "maxlab.send( maxlab.system.StatusLED(color=0))"
   ]
  },
  {
   "cell_type": "markdown",
   "id": "509f004d",
   "metadata": {},
   "source": [
    "# Get Status <font color=\"red\">Not done"
   ]
  },
  {
   "cell_type": "markdown",
   "id": "210bdf56",
   "metadata": {},
   "source": [
    "<font color=\"red\">\n",
    "    \n",
    "**Game Plan:** After we turn on the smart plug, we will wait 15 seconds and then start the maxwell ephys server. The we check if the ephys server is running, if not, we turn of the device and turn it back on to reset it. "
   ]
  },
  {
   "cell_type": "markdown",
   "id": "105d1d27",
   "metadata": {},
   "source": [
    "<font color=\"orange\">\n",
    "    \n",
    "**HintL** the optogenetics notebook has a line of code that change the LED. This is a good test if the server is on"
   ]
  },
  {
   "cell_type": "code",
   "execution_count": 6,
   "id": "55650193",
   "metadata": {},
   "outputs": [
    {
     "ename": "SyntaxError",
     "evalue": "unexpected EOF while parsing (2099373114.py, line 3)",
     "output_type": "error",
     "traceback": [
      "\u001b[0;36m  Input \u001b[0;32mIn [6]\u001b[0;36m\u001b[0m\n\u001b[0;31m    print(\"temprarily here\")\u001b[0m\n\u001b[0m                            ^\u001b[0m\n\u001b[0;31mSyntaxError\u001b[0m\u001b[0;31m:\u001b[0m unexpected EOF while parsing\n"
     ]
    }
   ],
   "source": [
    "try:\n",
    "    # run some mxwbio command that requires server\n",
    "    print(\"temprarily here\")"
   ]
  },
  {
   "cell_type": "markdown",
   "id": "f6bc3c1d",
   "metadata": {},
   "source": [
    "# Toggle Status"
   ]
  },
  {
   "cell_type": "markdown",
   "id": "c6ef023e",
   "metadata": {},
   "source": [
    "Create buttons for toggling on and off"
   ]
  },
  {
   "cell_type": "code",
   "execution_count": 1,
   "id": "5bcbed14",
   "metadata": {},
   "outputs": [
    {
     "ename": "NameError",
     "evalue": "name 'ipw' is not defined",
     "output_type": "error",
     "traceback": [
      "\u001b[0;31m---------------------------------------------------------------------------\u001b[0m",
      "\u001b[0;31mNameError\u001b[0m                                 Traceback (most recent call last)",
      "Input \u001b[0;32mIn [1]\u001b[0m, in \u001b[0;36m<module>\u001b[0;34m\u001b[0m\n\u001b[0;32m----> 1\u001b[0m toggle_on\u001b[38;5;241m=\u001b[39m \u001b[43mipw\u001b[49m\u001b[38;5;241m.\u001b[39mButton(description\u001b[38;5;241m=\u001b[39m\u001b[38;5;124m\"\u001b[39m\u001b[38;5;124mON\u001b[39m\u001b[38;5;124m\"\u001b[39m, button_style\u001b[38;5;241m=\u001b[39m\u001b[38;5;124m\"\u001b[39m\u001b[38;5;124mSuccess\u001b[39m\u001b[38;5;124m\"\u001b[39m)\n\u001b[1;32m      2\u001b[0m toggle_off\u001b[38;5;241m=\u001b[39m ipw\u001b[38;5;241m.\u001b[39mButton(description\u001b[38;5;241m=\u001b[39m\u001b[38;5;124m\"\u001b[39m\u001b[38;5;124mOFF\u001b[39m\u001b[38;5;124m\"\u001b[39m, button_style\u001b[38;5;241m=\u001b[39m\u001b[38;5;124m\"\u001b[39m\u001b[38;5;124mDanger\u001b[39m\u001b[38;5;124m\"\u001b[39m)\n\u001b[1;32m      3\u001b[0m power_btns \u001b[38;5;241m=\u001b[39m ipw\u001b[38;5;241m.\u001b[39mHBox([toggle_on,toggle_off])\n",
      "\u001b[0;31mNameError\u001b[0m: name 'ipw' is not defined"
     ]
    }
   ],
   "source": [
    "toggle_on= ipw.Button(description=\"ON\", button_style=\"Success\")\n",
    "toggle_off= ipw.Button(description=\"OFF\", button_style=\"Danger\")\n",
    "power_btns = ipw.HBox([toggle_on,toggle_off])"
   ]
  },
  {
   "cell_type": "code",
   "execution_count": 2,
   "id": "c176e91e",
   "metadata": {},
   "outputs": [
    {
     "ename": "NameError",
     "evalue": "name 'power_btns' is not defined",
     "output_type": "error",
     "traceback": [
      "\u001b[0;31m---------------------------------------------------------------------------\u001b[0m",
      "\u001b[0;31mNameError\u001b[0m                                 Traceback (most recent call last)",
      "Input \u001b[0;32mIn [2]\u001b[0m, in \u001b[0;36m<module>\u001b[0;34m\u001b[0m\n\u001b[0;32m----> 1\u001b[0m \u001b[43mpower_btns\u001b[49m\n",
      "\u001b[0;31mNameError\u001b[0m: name 'power_btns' is not defined"
     ]
    }
   ],
   "source": [
    "power_btns "
   ]
  },
  {
   "cell_type": "markdown",
   "id": "751648cc",
   "metadata": {},
   "source": [
    "Add functionality for on button\n",
    "\n",
    "<font color=\"red\"> Add steps where you turn on the server. then power up the server code. As a final check run a basic server command as an assertion to check it's there."
   ]
  },
  {
   "cell_type": "code",
   "execution_count": 11,
   "id": "5dbbaf39",
   "metadata": {},
   "outputs": [],
   "source": [
    "def turnOn(a):\n",
    "    try:        \n",
    "        mb = messaging.MessageBroker( str(uuid.uuid4()) )\n",
    "        mb.publish_message(topic=\"mcclintock/cmnd/POWER\", message=\"ON\" ) #/Power\n",
    "        print(\"Turnin the hub on now. Waiting 15 seconds for it to warm up...\")\n",
    "        time.sleep(15)\n",
    "        # turon on hte server\n",
    "        # test that the server is on\n",
    "        print(\"You just turned the hub on, please remember to turn it off later today!\")\n",
    "    except: \n",
    "        print(\"Error\")\n",
    "    \n",
    "toggle_on.on_click(turnOn)"
   ]
  },
  {
   "cell_type": "code",
   "execution_count": 12,
   "id": "e3aee3c3",
   "metadata": {},
   "outputs": [],
   "source": [
    "def turnOff(a):\n",
    "    try:        \n",
    "        mb = messaging.MessageBroker( str(uuid.uuid4()) )\n",
    "        mb.publish_message(topic=\"mcclintock/cmnd/POWER\", message=\"OFF\" ) #/Power\n",
    "        print(\"You just turned the hub off, thanks!\")\n",
    "    except: \n",
    "        print(\"Error\")\n",
    "    \n",
    "toggle_off.on_click(turnOff)"
   ]
  },
  {
   "cell_type": "markdown",
   "id": "0b7bf453",
   "metadata": {},
   "source": [
    "# <font color=\"red\"> Documentation of Set Up Smart Plug"
   ]
  },
  {
   "cell_type": "markdown",
   "id": "3ab184d7",
   "metadata": {},
   "source": [
    "To connect the smartplug to Braingeneers AWS IoT environment:\n",
    "\n",
    "\n",
    "First,  plug in the smartplug, wait for initialization, and find its IP and website by doing a LAN scan (Android app \"Net Analyzer\" is perfect for this)\n",
    "\n",
    "To set up AWS, do [this tutorial](https://tasmota.github.io/docs/AWS-IoT/#4-configure-aws-iot-policy-to-be-done-once) only once (already done for Braingeneers)\n",
    "\n",
    "From the smartplug's website:\n",
    "\n",
    "1. Go to \"Firmware Upgrade\" > \"Upgrade by file upload\". Flash the plug with tasmota-braingeneers-iot.bin.gz  firmware (it has enabled IoT & TLS)\n",
    "\n",
    "2. Once flashed, paste this into the smartplug website's Console:\n",
    "\n",
    "`BackLog SetOption3 1; SetOption103 1; MqttHost ahp00abmtph4i-ats.iot.us-west-2.amazonaws.com; MqttPort 443; MqttUser tasmota?x-amz-customauthorizer-name=TasmotaAuth; MqttPassword dvGbdnVI+rbv9YsRw+1FdQ==`\n",
    "\n",
    "4. Edit the MQTT topic in \"Configuration\" > \"Configure MQTT\" to be \"Full Topic\" =  %topic%/%prefix%/  and \"Topic\" = UNIQUE_NAME  <-- change this to be an actual name you want for the device.\n",
    "5. Now you should be able to trigger the plug with MQTT messages UNIQUE_NAME/cmnd/Power ON, UNIQUE_NAME/cmnd/Power OFF\n",
    "6. Edit in \"Configuration\" > \"Configure Other\",  \"Device Name\" = UNIQUE_NAME to also make the web interface display the plug's name for easier identification (edited) "
   ]
  },
  {
   "cell_type": "code",
   "execution_count": null,
   "id": "ec43803f",
   "metadata": {},
   "outputs": [],
   "source": []
  }
 ],
 "metadata": {
  "hide_input": false,
  "kernelspec": {
   "display_name": "Python 3 (ipykernel)",
   "language": "python",
   "name": "python3"
  },
  "language_info": {
   "codemirror_mode": {
    "name": "ipython",
    "version": 3
   },
   "file_extension": ".py",
   "mimetype": "text/x-python",
   "name": "python",
   "nbconvert_exporter": "python",
   "pygments_lexer": "ipython3",
   "version": "3.9.7"
  },
  "toc": {
   "base_numbering": 1,
   "nav_menu": {},
   "number_sections": true,
   "sideBar": true,
   "skip_h1_title": false,
   "title_cell": "Table of Contents",
   "title_sidebar": "Contents",
   "toc_cell": false,
   "toc_position": {},
   "toc_section_display": true,
   "toc_window_display": false
  }
 },
 "nbformat": 4,
 "nbformat_minor": 5
}
