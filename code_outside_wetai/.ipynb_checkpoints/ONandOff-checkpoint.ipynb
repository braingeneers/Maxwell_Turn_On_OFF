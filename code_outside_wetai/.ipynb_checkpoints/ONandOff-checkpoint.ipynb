{
 "cells": [
  {
   "cell_type": "markdown",
   "id": "1445aa15",
   "metadata": {},
   "source": [
    "Test to see if I can get all the code working"
   ]
  },
  {
   "cell_type": "code",
   "execution_count": 3,
   "id": "0c4503c3",
   "metadata": {},
   "outputs": [],
   "source": [
    "import os                                                         # used to run terminal bash commands\n",
    "import time                                                       # used to wait for hub/smartplug to start\n",
    "import uuid                                                       # uuid & messaging used for IoT\n",
    "from braingeneers.utils import messaging"
   ]
  },
  {
   "cell_type": "code",
   "execution_count": 4,
   "id": "da241330",
   "metadata": {},
   "outputs": [
    {
     "name": "stdout",
     "output_type": "stream",
     "text": [
      "turning on ephys. Please wait 7 seconds.\n",
      "ephys launched!\n",
      "turning off ephys\n"
     ]
    },
    {
     "ename": "KeyboardInterrupt",
     "evalue": "",
     "output_type": "error",
     "traceback": [
      "\u001b[0;31m---------------------------------------------------------------------------\u001b[0m",
      "\u001b[0;31mKeyboardInterrupt\u001b[0m                         Traceback (most recent call last)",
      "Input \u001b[0;32mIn [4]\u001b[0m, in \u001b[0;36m<cell line: 5>\u001b[0;34m()\u001b[0m\n\u001b[1;32m      3\u001b[0m mb_main\u001b[38;5;241m.\u001b[39msubscribe_message( topic\u001b[38;5;241m=\u001b[39m\u001b[38;5;124m\"\u001b[39m\u001b[38;5;124mephys_launcher\u001b[39m\u001b[38;5;124m\"\u001b[39m, callback\u001b[38;5;241m=\u001b[39mq )\n\u001b[1;32m      4\u001b[0m \u001b[38;5;28;01mwhile\u001b[39;00m \u001b[38;5;28;01mTrue\u001b[39;00m:\n\u001b[0;32m----> 5\u001b[0m     topic_name, result_message \u001b[38;5;241m=\u001b[39m \u001b[43mq\u001b[49m\u001b[38;5;241;43m.\u001b[39;49m\u001b[43mget\u001b[49m\u001b[43m(\u001b[49m\u001b[43m)\u001b[49m \u001b[38;5;66;03m#storing the message and the directory name to variables\u001b[39;00m\n\u001b[1;32m      7\u001b[0m     \u001b[38;5;28;01mif\u001b[39;00m result_message[\u001b[38;5;124m\"\u001b[39m\u001b[38;5;124mcommand\u001b[39m\u001b[38;5;124m\"\u001b[39m] \u001b[38;5;241m==\u001b[39m \u001b[38;5;124m\"\u001b[39m\u001b[38;5;124mON\u001b[39m\u001b[38;5;124m\"\u001b[39m:\n\u001b[1;32m      8\u001b[0m         \u001b[38;5;28mprint\u001b[39m(\u001b[38;5;124m\"\u001b[39m\u001b[38;5;124mturning on ephys. Please wait 7 seconds.\u001b[39m\u001b[38;5;124m\"\u001b[39m)\n",
      "File \u001b[0;32m~/miniconda3/lib/python3.9/queue.py:171\u001b[0m, in \u001b[0;36mQueue.get\u001b[0;34m(self, block, timeout)\u001b[0m\n\u001b[1;32m    169\u001b[0m \u001b[38;5;28;01melif\u001b[39;00m timeout \u001b[38;5;129;01mis\u001b[39;00m \u001b[38;5;28;01mNone\u001b[39;00m:\n\u001b[1;32m    170\u001b[0m     \u001b[38;5;28;01mwhile\u001b[39;00m \u001b[38;5;129;01mnot\u001b[39;00m \u001b[38;5;28mself\u001b[39m\u001b[38;5;241m.\u001b[39m_qsize():\n\u001b[0;32m--> 171\u001b[0m         \u001b[38;5;28;43mself\u001b[39;49m\u001b[38;5;241;43m.\u001b[39;49m\u001b[43mnot_empty\u001b[49m\u001b[38;5;241;43m.\u001b[39;49m\u001b[43mwait\u001b[49m\u001b[43m(\u001b[49m\u001b[43m)\u001b[49m\n\u001b[1;32m    172\u001b[0m \u001b[38;5;28;01melif\u001b[39;00m timeout \u001b[38;5;241m<\u001b[39m \u001b[38;5;241m0\u001b[39m:\n\u001b[1;32m    173\u001b[0m     \u001b[38;5;28;01mraise\u001b[39;00m \u001b[38;5;167;01mValueError\u001b[39;00m(\u001b[38;5;124m\"\u001b[39m\u001b[38;5;124m'\u001b[39m\u001b[38;5;124mtimeout\u001b[39m\u001b[38;5;124m'\u001b[39m\u001b[38;5;124m must be a non-negative number\u001b[39m\u001b[38;5;124m\"\u001b[39m)\n",
      "File \u001b[0;32m~/miniconda3/lib/python3.9/threading.py:312\u001b[0m, in \u001b[0;36mCondition.wait\u001b[0;34m(self, timeout)\u001b[0m\n\u001b[1;32m    310\u001b[0m \u001b[38;5;28;01mtry\u001b[39;00m:    \u001b[38;5;66;03m# restore state no matter what (e.g., KeyboardInterrupt)\u001b[39;00m\n\u001b[1;32m    311\u001b[0m     \u001b[38;5;28;01mif\u001b[39;00m timeout \u001b[38;5;129;01mis\u001b[39;00m \u001b[38;5;28;01mNone\u001b[39;00m:\n\u001b[0;32m--> 312\u001b[0m         \u001b[43mwaiter\u001b[49m\u001b[38;5;241;43m.\u001b[39;49m\u001b[43macquire\u001b[49m\u001b[43m(\u001b[49m\u001b[43m)\u001b[49m\n\u001b[1;32m    313\u001b[0m         gotit \u001b[38;5;241m=\u001b[39m \u001b[38;5;28;01mTrue\u001b[39;00m\n\u001b[1;32m    314\u001b[0m     \u001b[38;5;28;01melse\u001b[39;00m:\n",
      "\u001b[0;31mKeyboardInterrupt\u001b[0m: "
     ]
    }
   ],
   "source": [
    "\n",
    "mb_main = messaging.MessageBroker(str(uuid.uuid4))                # set up iot listener\n",
    "q = messaging.CallableQueue()\n",
    "mb_main.subscribe_message( topic=\"ephys_launcher\", callback=q )\n",
    "while True:\n",
    "    topic_name, result_message = q.get() #storing the message and the directory name to variables\n",
    "\n",
    "    if result_message[\"command\"] == \"ON\":\n",
    "        print(\"turning on ephys. Please wait 7 seconds.\")\n",
    "        mb = messaging.MessageBroker( str(uuid.uuid4()) )                 # set up iot\n",
    "        mb.publish_message(topic=\"mcclintock/cmnd/POWER\", message=\"ON\" )  # turn on smart plug\n",
    "        time.sleep(7)                                                     # wait 7 seconds for smart plug\n",
    "        os.system(\"echo mxwbio | sudo -S docker start wetai\")             # turn on wetai\n",
    "        os.system(\"/home/mxwbio/MaxLab/bin/mxwserver.sh &\")               # turn on maxwell server\n",
    "        print(\"ephys launched!\")            \n",
    "\n",
    "    if result_message[\"command\"] == \"OFF\":\n",
    "        print(\"turning off ephys\")\n",
    "        mb = messaging.MessageBroker( str(uuid.uuid4()) )                       # set up iot\n",
    "        os.system(\"/home/mxwbio/MaxLab/bin/killall.sh\")                         # shut down MaxOne server\n",
    "        os.system(\"echo mxwbio | sudo -S docker stop wetai\")                    # stop wetai\n",
    "        mb.publish_message(topic=\"mcclintock/cmnd/POWER\", message=\"OFF\" )       # turn off smart plug"
   ]
  },
  {
   "cell_type": "code",
   "execution_count": null,
   "id": "9c4dab6e",
   "metadata": {},
   "outputs": [],
   "source": []
  }
 ],
 "metadata": {
  "hide_input": false,
  "kernelspec": {
   "display_name": "Python 3",
   "language": "python",
   "name": "python3"
  },
  "language_info": {
   "codemirror_mode": {
    "name": "ipython",
    "version": 3
   },
   "file_extension": ".py",
   "mimetype": "text/x-python",
   "name": "python",
   "nbconvert_exporter": "python",
   "pygments_lexer": "ipython3",
   "version": "3.9.5"
  },
  "toc": {
   "base_numbering": 1,
   "nav_menu": {},
   "number_sections": false,
   "sideBar": true,
   "skip_h1_title": false,
   "title_cell": "Table of Contents",
   "title_sidebar": "Contents",
   "toc_cell": false,
   "toc_position": {},
   "toc_section_display": true,
   "toc_window_display": false
  }
 },
 "nbformat": 4,
 "nbformat_minor": 5
}
