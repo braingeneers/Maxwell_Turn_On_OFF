{
 "cells": [
  {
   "cell_type": "markdown",
   "id": "b68f2cd9",
   "metadata": {},
   "source": [
    "<p></p><p></p>\n",
    "\n",
    "<font size=7>Ephys Environment Launcher -- <font color=\"red\">OFF"
   ]
  },
  {
   "cell_type": "markdown",
   "id": "ff2691a2",
   "metadata": {},
   "source": [
    "<font color=\"orange\">\n",
    "    \n",
    "**NOTE:** This code runs outside of wetai. It actually runs on the Maxwell computer. This notebook was made for troubleshooting the code as it's written. Maxwell `jupyter notebook` was used for running the code."
   ]
  },
  {
   "cell_type": "markdown",
   "id": "f116c397",
   "metadata": {},
   "source": [
    "**To Do**\n",
    "* Write Code for IoT listener\n",
    "* combine all code into one file, `turn_off_ephys.py`\n",
    "* Create WetAI notebook on braingeneers server to test communication\n",
    "* Post to braingeneers github\n",
    "* Put code in bash so that this runs every time computer restarts"
   ]
  },
  {
   "cell_type": "markdown",
   "id": "1a13459f",
   "metadata": {},
   "source": [
    "# Create IoT Listener for Ephys Command"
   ]
  },
  {
   "cell_type": "code",
   "execution_count": null,
   "id": "b8ff2f48",
   "metadata": {},
   "outputs": [],
   "source": []
  },
  {
   "cell_type": "code",
   "execution_count": null,
   "id": "51866c94",
   "metadata": {},
   "outputs": [],
   "source": []
  },
  {
   "cell_type": "markdown",
   "id": "48cb86d3",
   "metadata": {},
   "source": [
    "# Import Packages"
   ]
  },
  {
   "cell_type": "markdown",
   "id": "e06af91b",
   "metadata": {},
   "source": [
    "Import basic packages"
   ]
  },
  {
   "cell_type": "code",
   "execution_count": 12,
   "id": "33ce1ad9",
   "metadata": {},
   "outputs": [],
   "source": [
    "import os\n",
    "import time"
   ]
  },
  {
   "cell_type": "markdown",
   "id": "8840089a",
   "metadata": {},
   "source": [
    "import package for running iot commands"
   ]
  },
  {
   "cell_type": "code",
   "execution_count": 13,
   "id": "353e96c9",
   "metadata": {},
   "outputs": [],
   "source": [
    "import uuid\n",
    "from braingeneers.utils import messaging"
   ]
  },
  {
   "cell_type": "markdown",
   "id": "251c9839",
   "metadata": {},
   "source": [
    "import controler for maxone"
   ]
  },
  {
   "cell_type": "code",
   "execution_count": 14,
   "id": "efc5ac25",
   "metadata": {},
   "outputs": [],
   "source": [
    "import maxlab"
   ]
  },
  {
   "cell_type": "markdown",
   "id": "2397dd27",
   "metadata": {},
   "source": [
    "# Turn off SmartPlug"
   ]
  },
  {
   "cell_type": "markdown",
   "id": "e6c9d4cb",
   "metadata": {},
   "source": [
    "use iot to turn on smart plug. this turns on the MaxOne hub that is plugged into the smartplug, which in turn, makes it possible to start controlling the MaxOne through the hub."
   ]
  },
  {
   "cell_type": "code",
   "execution_count": 15,
   "id": "01b65c5a",
   "metadata": {},
   "outputs": [
    {
     "name": "stderr",
     "output_type": "stream",
     "text": [
      "Connection interrupted: (), {'connection': <awscrt.mqtt.Connection object at 0x7f2c22f417c0>, 'error': AwsCrtError(name='AWS_ERROR_MQTT_TIMEOUT', message='Time limit between request and response has been exceeded.', code=5129)}\n",
      "Connection resumed: (), {'connection': <awscrt.mqtt.Connection object at 0x7f2c22f417c0>, 'return_code': <ConnectReturnCode.ACCEPTED: 0>, 'session_present': True}\n"
     ]
    }
   ],
   "source": [
    "mb = messaging.MessageBroker( str(uuid.uuid4()) )\n",
    "mb.publish_message(topic=\"mcclintock/cmnd/POWER\", message=\"OFF\" ) #/Power"
   ]
  },
  {
   "cell_type": "markdown",
   "id": "fd43e967",
   "metadata": {},
   "source": [
    "# Shut Down MaxOne Server"
   ]
  },
  {
   "cell_type": "markdown",
   "id": "b3bb1a8d",
   "metadata": {},
   "source": [
    "Turn of server"
   ]
  },
  {
   "cell_type": "code",
   "execution_count": 7,
   "id": "512aab0b",
   "metadata": {},
   "outputs": [],
   "source": [
    "import os"
   ]
  },
  {
   "cell_type": "code",
   "execution_count": 8,
   "id": "c03b25a3",
   "metadata": {},
   "outputs": [
    {
     "data": {
      "text/plain": [
       "0"
      ]
     },
     "execution_count": 8,
     "metadata": {},
     "output_type": "execute_result"
    }
   ],
   "source": [
    "os.system(\"/home/mxwbio/MaxLab/bin/killall.sh\")"
   ]
  },
  {
   "cell_type": "markdown",
   "id": "2f3aa4b7",
   "metadata": {},
   "source": [
    "Test server is off"
   ]
  },
  {
   "cell_type": "code",
   "execution_count": 11,
   "id": "3c8c0d17",
   "metadata": {},
   "outputs": [],
   "source": [
    "#maxlab.send( maxlab.system.StatusLED(color=0) )"
   ]
  },
  {
   "cell_type": "markdown",
   "id": "015d7284",
   "metadata": {},
   "source": [
    "# Turn Off WetAI"
   ]
  },
  {
   "cell_type": "code",
   "execution_count": 10,
   "id": "791dc04a",
   "metadata": {},
   "outputs": [
    {
     "data": {
      "text/plain": [
       "0"
      ]
     },
     "execution_count": 10,
     "metadata": {},
     "output_type": "execute_result"
    }
   ],
   "source": [
    "os.system(\"echo mxwbio | sudo -S docker stop wetai\")"
   ]
  },
  {
   "cell_type": "markdown",
   "id": "2af8361b",
   "metadata": {},
   "source": [
    "# <font color=\"brown\"> Original Docker code for creating WetAI container"
   ]
  },
  {
   "cell_type": "markdown",
   "id": "c5d0a3bc",
   "metadata": {},
   "source": [
    "The following code is run once on the maxwell computer to create the docker container for wetai. To update wetai, simply delete the docker container `wetai` and the run the following code below, but with the latest wetai docker image."
   ]
  },
  {
   "cell_type": "raw",
   "id": "2a7a8f68",
   "metadata": {},
   "source": [
    "sudo docker run -d --name wetai --network host -v /home/mxwbio/wetai/Projects:/home/jovyan/Projects -v /home/mxwbio/wetai/Data:/home/jovyan/Data braingeneers/wetai:4.0.1  password maxwell\n"
   ]
  },
  {
   "cell_type": "markdown",
   "id": "ccb7ec70",
   "metadata": {},
   "source": [
    "# <font color=\"red\"> Documentation of Set Up Smart Plug"
   ]
  },
  {
   "cell_type": "markdown",
   "id": "d94f56cf",
   "metadata": {},
   "source": [
    "To connect the smartplug to Braingeneers AWS IoT environment:\n",
    "\n",
    "\n",
    "First,  plug in the smartplug, wait for initialization, and find its IP and website by doing a LAN scan (Android app \"Net Analyzer\" is perfect for this)\n",
    "\n",
    "To set up AWS, do [this tutorial](https://tasmota.github.io/docs/AWS-IoT/#4-configure-aws-iot-policy-to-be-done-once) only once (already done for Braingeneers)\n",
    "\n",
    "From the smartplug's website:\n",
    "\n",
    "1. Go to \"Firmware Upgrade\" > \"Upgrade by file upload\". Flash the plug with tasmota-braingeneers-iot.bin.gz  firmware (it has enabled IoT & TLS)\n",
    "\n",
    "2. Once flashed, paste this into the smartplug website's Console:\n",
    "\n",
    "`BackLog SetOption3 1; SetOption103 1; MqttHost ahp00abmtph4i-ats.iot.us-west-2.amazonaws.com; MqttPort 443; MqttUser tasmota?x-amz-customauthorizer-name=TasmotaAuth; MqttPassword dvGbdnVI+rbv9YsRw+1FdQ==`\n",
    "\n",
    "4. Edit the MQTT topic in \"Configuration\" > \"Configure MQTT\" to be \"Full Topic\" =  %topic%/%prefix%/  and \"Topic\" = UNIQUE_NAME  <-- change this to be an actual name you want for the device.\n",
    "5. Now you should be able to trigger the plug with MQTT messages UNIQUE_NAME/cmnd/Power ON, UNIQUE_NAME/cmnd/Power OFF\n",
    "6. Edit in \"Configuration\" > \"Configure Other\",  \"Device Name\" = UNIQUE_NAME to also make the web interface display the plug's name for easier identification (edited) "
   ]
  },
  {
   "cell_type": "code",
   "execution_count": null,
   "id": "c1c68f51",
   "metadata": {},
   "outputs": [],
   "source": []
  },
  {
   "cell_type": "code",
   "execution_count": null,
   "id": "b92f00ae",
   "metadata": {},
   "outputs": [],
   "source": []
  }
 ],
 "metadata": {
  "hide_input": false,
  "kernelspec": {
   "display_name": "Python 3",
   "language": "python",
   "name": "python3"
  },
  "language_info": {
   "codemirror_mode": {
    "name": "ipython",
    "version": 3
   },
   "file_extension": ".py",
   "mimetype": "text/x-python",
   "name": "python",
   "nbconvert_exporter": "python",
   "pygments_lexer": "ipython3",
   "version": "3.9.5"
  },
  "toc": {
   "base_numbering": 1,
   "nav_menu": {},
   "number_sections": false,
   "sideBar": true,
   "skip_h1_title": false,
   "title_cell": "Table of Contents",
   "title_sidebar": "Contents",
   "toc_cell": false,
   "toc_position": {},
   "toc_section_display": true,
   "toc_window_display": false
  }
 },
 "nbformat": 4,
 "nbformat_minor": 5
}
