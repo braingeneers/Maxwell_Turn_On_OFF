{
 "cells": [
  {
   "cell_type": "markdown",
   "id": "07bbd90d",
   "metadata": {},
   "source": [
    ".\n",
    "\n",
    "<font size=7 face=courier>Source Code: Ephys Launcher"
   ]
  },
  {
   "cell_type": "markdown",
   "id": "1da4f2f9",
   "metadata": {},
   "source": [
    "**This is the source code use in the ephys launcher app**"
   ]
  },
  {
   "cell_type": "markdown",
   "id": "1f05cd4e",
   "metadata": {},
   "source": [
    "<font color=\"red\">\n",
    "    \n",
    "**To Do**\n",
    "* do some check that verifies hub is on/off"
   ]
  },
  {
   "cell_type": "markdown",
   "id": "b9f5ce18",
   "metadata": {},
   "source": [
    "import packages"
   ]
  },
  {
   "cell_type": "code",
   "execution_count": 8,
   "id": "ddbcbf45",
   "metadata": {},
   "outputs": [],
   "source": [
    "import ipywidgets as  ipw\n",
    "from braingeneers.utils import messaging\n",
    "import uuid \n",
    "import time"
   ]
  },
  {
   "cell_type": "markdown",
   "id": "23bdf7a0",
   "metadata": {},
   "source": [
    "Create Widgets"
   ]
  },
  {
   "cell_type": "code",
   "execution_count": 9,
   "id": "ea49d21b",
   "metadata": {},
   "outputs": [],
   "source": [
    "toggle_on= ipw.Button(description=\"ON\", button_style=\"Success\")\n",
    "toggle_off= ipw.Button(description=\"OFF\", button_style=\"Danger\")\n",
    "power_btns = ipw.HBox([toggle_on,toggle_off])"
   ]
  },
  {
   "cell_type": "code",
   "execution_count": 10,
   "id": "15dc434c",
   "metadata": {},
   "outputs": [
    {
     "data": {
      "application/vnd.jupyter.widget-view+json": {
       "model_id": "2737c205b3bf4412910943964bd372c0",
       "version_major": 2,
       "version_minor": 0
      },
      "text/plain": [
       "HBox(children=(Button(button_style='success', description='ON', style=ButtonStyle()), Button(button_style='dan…"
      ]
     },
     "metadata": {},
     "output_type": "display_data"
    }
   ],
   "source": [
    "display(power_btns)"
   ]
  },
  {
   "cell_type": "markdown",
   "id": "0050cbce",
   "metadata": {},
   "source": [
    "<font color=\"green\">Add functionality for **On** button"
   ]
  },
  {
   "cell_type": "code",
   "execution_count": null,
   "id": "c1178613",
   "metadata": {},
   "outputs": [],
   "source": [
    "def turnOn(a):  \n",
    "    mb = messaging.MessageBroker( str(uuid.uuid4()) )\n",
    "    mb.publish_message(topic=\"ephys_launcher\", message={\"command\":\"ON\"} ) #/Power\n",
    "    print(\"Turning on computer. Please wait 7 seconds.\")\n",
    "    time.sleep(7)\n",
    "    print(\"Computer is ready. Remember to turn it off!\")\n",
    "        \n",
    "toggle_on.on_click(turnOn)"
   ]
  },
  {
   "cell_type": "markdown",
   "id": "345a51ab",
   "metadata": {},
   "source": [
    "<font color=\"red\">Add functionality for **Off** button"
   ]
  },
  {
   "cell_type": "code",
   "execution_count": null,
   "id": "f55ee1ab",
   "metadata": {},
   "outputs": [],
   "source": [
    "def turnOff(a):  \n",
    "        mb = messaging.MessageBroker( str(uuid.uuid4()) )\n",
    "        mb.publish_message(topic=\"ephys_launcher\", message={\"command\":\"OFF\"} ) #/Power\n",
    "        print(\"You turned of the computer. Thanks!\")\n",
    "\n",
    "toggle_off.on_click(turnOff)"
   ]
  }
 ],
 "metadata": {
  "hide_input": false,
  "kernelspec": {
   "display_name": "Python 3",
   "language": "python",
   "name": "python3"
  },
  "language_info": {
   "codemirror_mode": {
    "name": "ipython",
    "version": 3
   },
   "file_extension": ".py",
   "mimetype": "text/x-python",
   "name": "python",
   "nbconvert_exporter": "python",
   "pygments_lexer": "ipython3",
   "version": "3.9.5"
  },
  "toc": {
   "base_numbering": 1,
   "nav_menu": {},
   "number_sections": true,
   "sideBar": true,
   "skip_h1_title": false,
   "title_cell": "Table of Contents",
   "title_sidebar": "Contents",
   "toc_cell": false,
   "toc_position": {},
   "toc_section_display": true,
   "toc_window_display": false
  }
 },
 "nbformat": 4,
 "nbformat_minor": 5
}
